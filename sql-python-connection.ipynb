{
 "cells": [
  {
   "cell_type": "code",
   "execution_count": 12,
   "metadata": {},
   "outputs": [],
   "source": [
    "from sqlalchemy import create_engine\n",
    "import pandas as pd\n",
    "\n",
    "user = 'root'\n",
    "password = 'nsn37913148'\n",
    "host = 'localhost'\n",
    "port = '3306'\n",
    "database = 'sakila'\n",
    "\n",
    "engine = create_engine(f'mysql+pymysql://{user}:{password}@{host}:{port}/{database}')\n"
   ]
  },
  {
   "cell_type": "code",
   "execution_count": 13,
   "metadata": {},
   "outputs": [],
   "source": [
    "def rentals_month(engine, month, year):\n",
    "    query = f\"\"\"\n",
    "        SELECT rental_id, rental_date, customer_id\n",
    "        FROM rental\n",
    "        WHERE MONTH(rental_date) = {month}\n",
    "        AND YEAR(rental_date) = {year};\n",
    "    \"\"\"\n",
    "    df = pd.read_sql(query, engine)\n",
    "    return df\n"
   ]
  },
  {
   "cell_type": "code",
   "execution_count": 14,
   "metadata": {},
   "outputs": [],
   "source": [
    "def rental_count_month(df, month, year):\n",
    "    rentals = df.groupby('customer_id').size().reset_index(name=f\"rentals_{month:02d}_{year}\")\n",
    "    return rentals"
   ]
  },
  {
   "cell_type": "code",
   "execution_count": 15,
   "metadata": {},
   "outputs": [],
   "source": [
    "def compare_rentals(df1, df2):\n",
    "    df = pd.merge(df1, df2, on='customer_id', how='inner')  \n",
    "    cols = df.columns.tolist()\n",
    "    df['difference'] = df[cols[2]] - df[cols[1]]  \n",
    "    return df"
   ]
  },
  {
   "cell_type": "code",
   "execution_count": 16,
   "metadata": {},
   "outputs": [
    {
     "name": "stdout",
     "output_type": "stream",
     "text": [
      "   customer_id  rentals_05_2005  rentals_06_2005  difference\n",
      "0            1                2                7           5\n",
      "1            2                1                1           0\n",
      "2            3                2                4           2\n",
      "3            5                3                5           2\n",
      "4            6                3                4           1\n"
     ]
    }
   ],
   "source": [
    "may_df = rentals_month(engine, 5, 2005)\n",
    "june_df = rentals_month(engine, 6, 2005)\n",
    "\n",
    "may_counts = rental_count_month(may_df, 5, 2005)\n",
    "june_counts = rental_count_month(june_df, 6, 2005)\n",
    "\n",
    "comparison = compare_rentals(may_counts, june_counts)\n",
    "\n",
    "print(comparison.head())\n"
   ]
  }
 ],
 "metadata": {
  "kernelspec": {
   "display_name": "base",
   "language": "python",
   "name": "python3"
  },
  "language_info": {
   "codemirror_mode": {
    "name": "ipython",
    "version": 3
   },
   "file_extension": ".py",
   "mimetype": "text/x-python",
   "name": "python",
   "nbconvert_exporter": "python",
   "pygments_lexer": "ipython3",
   "version": "3.12.7"
  }
 },
 "nbformat": 4,
 "nbformat_minor": 2
}
